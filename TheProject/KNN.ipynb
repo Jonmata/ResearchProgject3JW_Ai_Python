{
 "cells": [
  {
   "cell_type": "code",
   "execution_count": 7,
   "metadata": {},
   "outputs": [],
   "source": [
    "import plotly.express as px\n",
    "import numpy as np\n",
    "import pandas as pb \n",
    "from sklearn.neighbors import KNeighborsClassifier\n",
    "from sklearn.model_selection import train_test_split\n",
    "from sklearn.metrics import accuracy_score\n"
   ]
  },
  {
   "cell_type": "code",
   "execution_count": 8,
   "metadata": {},
   "outputs": [],
   "source": [
    "data = pb.read_excel(\"/Users/jonathanmata/Documents/Ai_Project/Combined Data with averages.xlsx\")\n",
    "\n",
    "x= data.loc[:,('HW Average','PJ01 ','EX 01','Quiz Average')]\n",
    "\n",
    "x['HW Average']=x['HW Average']*5\n",
    "\n",
    "grade = data['Grade']\n",
    "\n",
    "finalGrade = data['Final']\n",
    "\n",
    "X_train, X_test,Y_train,Y_test = train_test_split(x,grade,random_state=42,test_size=.25)\n",
    "\n"
   ]
  },
  {
   "cell_type": "code",
   "execution_count": 9,
   "metadata": {},
   "outputs": [
    {
     "name": "stdout",
     "output_type": "stream",
     "text": [
      "Pipeline(steps=[('scaler', StandardScaler()),\n",
      "                ('knn',\n",
      "                 KNeighborsClassifier(metric='euclidean', n_neighbors=8,\n",
      "                                      weights='distance'))])\n",
      "Best Parameters: {'knn__metric': 'euclidean', 'knn__n_neighbors': 8, 'knn__weights': 'distance'}\n",
      "Best Accuracy: 0.6426877470355732\n"
     ]
    }
   ],
   "source": [
    "from sklearn.model_selection import GridSearchCV\n",
    "from sklearn.neighbors import KNeighborsClassifier\n",
    "from sklearn.preprocessing import StandardScaler\n",
    "from sklearn.pipeline import Pipeline\n",
    "\n",
    "# Define the pipeline with scaling and KNN\n",
    "pipeline = Pipeline([\n",
    "    ('scaler', StandardScaler()),\n",
    "    ('knn', KNeighborsClassifier())\n",
    "])\n",
    "\n",
    "# Define the hyperparameters to tune\n",
    "param_grid = {\n",
    "    'knn__n_neighbors': [1,2,3,4,5,6,7,8,9],\n",
    "    'knn__weights': ['uniform', 'distance'],\n",
    "    'knn__metric': ['euclidean', 'manhattan']\n",
    "}\n",
    "\n",
    "# Perform grid search with cross-validation\n",
    "grid_search = GridSearchCV(pipeline, param_grid, cv=5, scoring='accuracy')\n",
    "grid_search.fit(X_train, Y_train)\n",
    "\n",
    "# Get the best parameters and the best score\n",
    "best_params = grid_search.best_params_\n",
    "best_score = grid_search.best_score_\n",
    "best_alg = grid_search.best_estimator_\n",
    "\n",
    "print(best_alg)\n",
    "print(\"Best Parameters:\", best_params)\n",
    "print(\"Best Accuracy:\", best_score)"
   ]
  },
  {
   "cell_type": "code",
   "execution_count": 10,
   "metadata": {},
   "outputs": [
    {
     "name": "stdout",
     "output_type": "stream",
     "text": [
      "['A' 'F' 'D' 'F' 'D' 'D' 'F' 'D+' 'F' 'D+' 'F' 'C' 'A' 'C' 'A' 'C' 'D+'\n",
      " 'C' 'F' 'D' 'F' 'B' 'B+' 'A' 'D' 'C' 'C' 'B+' 'B+' 'D+' 'B+' 'F' 'C' 'D+'\n",
      " 'B' 'F' 'C+' 'F']\n",
      "0.7368421052631579\n"
     ]
    }
   ],
   "source": [
    "neigh = KNeighborsClassifier(n_neighbors=8,weights='distance',metric='euclidean')\n",
    "neigh.fit(X_train,Y_train)\n",
    "prediction = neigh.predict(X_test)\n",
    "print (prediction)\n",
    "print(accuracy_score(prediction,Y_test))"
   ]
  },
  {
   "cell_type": "code",
   "execution_count": 11,
   "metadata": {},
   "outputs": [
    {
     "data": {
      "application/vnd.plotly.v1+json": {
       "config": {
        "plotlyServerURL": "https://plot.ly"
       },
       "data": [
        {
         "hovertemplate": "label=A<br>value=%{x}<br>EX 01=%{y}<br>score of probability estimates=%{marker.color}<extra></extra>",
         "legendgroup": "A",
         "marker": {
          "color": [
           0,
           0,
           0,
           0,
           0,
           0,
           0,
           0,
           0
          ],
          "coloraxis": "coloraxis",
          "line": {
           "width": 1.5
          },
          "size": 12,
          "symbol": "square"
         },
         "mode": "markers",
         "name": "A",
         "orientation": "v",
         "showlegend": true,
         "type": "scatter",
         "x": [
          99.16666666666666,
          98.16666666666666,
          99.16666666666666,
          95,
          95,
          95,
          95,
          98.5,
          95
         ],
         "xaxis": "x",
         "y": [
          97,
          96,
          97,
          97,
          96,
          97,
          97,
          96,
          97
         ],
         "yaxis": "y"
        },
        {
         "hovertemplate": "label=D<br>value=%{x}<br>EX 01=%{y}<br>score of probability estimates=%{marker.color}<extra></extra>",
         "legendgroup": "D",
         "marker": {
          "color": [
           0,
           0,
           0.11039581581862466,
           0,
           0.16528723308929535,
           0,
           0,
           0.11039581581862466,
           0,
           0.16528723308929535,
           0,
           0,
           0.11039581581862466,
           0,
           0.16528723308929535
          ],
          "coloraxis": "coloraxis",
          "line": {
           "width": 1.5
          },
          "size": 12,
          "symbol": "x"
         },
         "mode": "markers",
         "name": "D",
         "orientation": "v",
         "showlegend": true,
         "type": "scatter",
         "x": [
          22.5,
          66.66666666666667,
          85,
          88.33333333333334,
          54.16666666666667,
          0,
          80,
          75,
          80,
          80,
          92,
          59,
          72.5,
          71.5,
          59
         ],
         "xaxis": "x",
         "y": [
          74,
          50,
          73,
          76.5,
          55,
          74,
          50,
          73,
          76.5,
          55,
          74,
          50,
          73,
          76.5,
          55
         ],
         "yaxis": "y"
        },
        {
         "hovertemplate": "label=F<br>value=%{x}<br>EX 01=%{y}<br>score of probability estimates=%{marker.color}<extra></extra>",
         "legendgroup": "F",
         "marker": {
          "color": [
           0,
           0,
           0,
           0,
           0,
           0,
           0,
           0,
           0,
           0,
           0,
           0,
           0,
           0,
           0,
           0,
           0,
           0,
           0,
           0,
           0,
           0,
           0,
           0,
           0,
           0,
           0,
           0,
           0,
           0,
           0,
           0,
           0
          ],
          "coloraxis": "coloraxis",
          "line": {
           "width": 1.5
          },
          "size": 12,
          "symbol": "cross"
         },
         "mode": "markers",
         "name": "F",
         "orientation": "v",
         "showlegend": true,
         "type": "scatter",
         "x": [
          82.5,
          87.5,
          96.66666666666666,
          13.333333333333332,
          49.16666666666667,
          49.16666666666667,
          55.83333333333333,
          87.5,
          59.16666666666667,
          82.08333333333334,
          31.25,
          80,
          40,
          90,
          0,
          25,
          25,
          0,
          40,
          50,
          85,
          0,
          69.5,
          58.5,
          28,
          44.5,
          46,
          46,
          55,
          58.5,
          23.5,
          72,
          79
         ],
         "xaxis": "x",
         "y": [
          78,
          60,
          51,
          66,
          19,
          19,
          42,
          60,
          24,
          41,
          72,
          78,
          60,
          51,
          66,
          19,
          19,
          42,
          60,
          24,
          41,
          72,
          78,
          60,
          51,
          66,
          19,
          19,
          42,
          60,
          24,
          41,
          72
         ],
         "yaxis": "y"
        },
        {
         "hovertemplate": "label=D+<br>value=%{x}<br>EX 01=%{y}<br>score of probability estimates=%{marker.color}<extra></extra>",
         "legendgroup": "D+",
         "marker": {
          "color": [
           0,
           0,
           0,
           0,
           0,
           0,
           0,
           0,
           0
          ],
          "coloraxis": "coloraxis",
          "line": {
           "width": 1.5
          },
          "size": 12,
          "symbol": "circle"
         },
         "mode": "markers",
         "name": "D+",
         "orientation": "v",
         "showlegend": true,
         "type": "scatter",
         "x": [
          86.66666666666666,
          89.58333333333334,
          74.16666666666667,
          90,
          20,
          70,
          72.5,
          75.5,
          65.5
         ],
         "xaxis": "x",
         "y": [
          65,
          81,
          68,
          65,
          81,
          68,
          65,
          81,
          68
         ],
         "yaxis": "y"
        },
        {
         "hovertemplate": "label=B<br>value=%{x}<br>EX 01=%{y}<br>score of probability estimates=%{marker.color}<extra></extra>",
         "legendgroup": "B",
         "marker": {
          "color": [
           0.06893497661639199,
           0.24037968926648987,
           1,
           0.2659353118952573,
           0.12012184540266702,
           1,
           0.06893497661639199,
           0.24037968926648987,
           1,
           0.2659353118952573,
           0.12012184540266702,
           1,
           0.06893497661639199,
           0.24037968926648987,
           1,
           0.2659353118952573,
           0.12012184540266702,
           1
          ],
          "coloraxis": "coloraxis",
          "line": {
           "width": 1.5
          },
          "size": 12,
          "symbol": "diamond"
         },
         "mode": "markers",
         "name": "B",
         "orientation": "v",
         "showlegend": true,
         "type": "scatter",
         "x": [
          87.5,
          81.66666666666666,
          88.33333333333334,
          95,
          90.83333333333334,
          95.83333333333334,
          90,
          95,
          80,
          60,
          80,
          85,
          83.5,
          85,
          75.5,
          93,
          79.5,
          75
         ],
         "xaxis": "x",
         "y": [
          74,
          90,
          82,
          90,
          82,
          91,
          74,
          90,
          82,
          90,
          82,
          91,
          74,
          90,
          82,
          90,
          82,
          91
         ],
         "yaxis": "y"
        },
        {
         "hovertemplate": "label=B+<br>value=%{x}<br>EX 01=%{y}<br>score of probability estimates=%{marker.color}<extra></extra>",
         "legendgroup": "B+",
         "marker": {
          "color": [
           0.1550605616520989,
           0,
           0,
           0.1550605616520989,
           0,
           0,
           0.1550605616520989,
           0,
           0
          ],
          "coloraxis": "coloraxis",
          "line": {
           "width": 1.5
          },
          "size": 12,
          "symbol": "square"
         },
         "mode": "markers",
         "name": "B+",
         "orientation": "v",
         "showlegend": true,
         "type": "scatter",
         "x": [
          87.91666666666666,
          95.41666666666666,
          88.33333333333334,
          85,
          95,
          85,
          90,
          89,
          82.5
         ],
         "xaxis": "x",
         "y": [
          82,
          92,
          92.5,
          82,
          92,
          92.5,
          82,
          92,
          92.5
         ],
         "yaxis": "y"
        },
        {
         "hovertemplate": "label=C<br>value=%{x}<br>EX 01=%{y}<br>score of probability estimates=%{marker.color}<extra></extra>",
         "legendgroup": "C",
         "marker": {
          "color": [
           0,
           0,
           0,
           0,
           0,
           0,
           0,
           0,
           0,
           0,
           0,
           0,
           0,
           0,
           0
          ],
          "coloraxis": "coloraxis",
          "line": {
           "width": 1.5
          },
          "size": 12,
          "symbol": "x"
         },
         "mode": "markers",
         "name": "C",
         "orientation": "v",
         "showlegend": true,
         "type": "scatter",
         "x": [
          95,
          81.66666666666666,
          80.83333333333334,
          90,
          73.75,
          80,
          80,
          30,
          50,
          85,
          88.5,
          86,
          65.5,
          82,
          56
         ],
         "xaxis": "x",
         "y": [
          87.5,
          71,
          77.5,
          65,
          93,
          87.5,
          71,
          77.5,
          65,
          93,
          87.5,
          71,
          77.5,
          65,
          93
         ],
         "yaxis": "y"
        },
        {
         "hovertemplate": "label=C+<br>value=%{x}<br>EX 01=%{y}<br>score of probability estimates=%{marker.color}<extra></extra>",
         "legendgroup": "C+",
         "marker": {
          "color": [
           0.10832511654684508,
           0,
           0.10832511654684508,
           0,
           0.10832511654684508,
           0
          ],
          "coloraxis": "coloraxis",
          "line": {
           "width": 1.5
          },
          "size": 12,
          "symbol": "cross"
         },
         "mode": "markers",
         "name": "C+",
         "orientation": "v",
         "showlegend": true,
         "type": "scatter",
         "x": [
          88.33333333333334,
          91.66666666666666,
          80,
          80,
          82.5,
          84
         ],
         "xaxis": "x",
         "y": [
          89,
          78.5,
          89,
          78.5,
          89,
          78.5
         ],
         "yaxis": "y"
        }
       ],
       "layout": {
        "coloraxis": {
         "colorbar": {
          "title": {
           "text": "score of probability estimates"
          }
         },
         "colorscale": [
          [
           0,
           "rgb(103,0,31)"
          ],
          [
           0.1,
           "rgb(178,24,43)"
          ],
          [
           0.2,
           "rgb(214,96,77)"
          ],
          [
           0.3,
           "rgb(244,165,130)"
          ],
          [
           0.4,
           "rgb(253,219,199)"
          ],
          [
           0.5,
           "rgb(247,247,247)"
          ],
          [
           0.6,
           "rgb(209,229,240)"
          ],
          [
           0.7,
           "rgb(146,197,222)"
          ],
          [
           0.8,
           "rgb(67,147,195)"
          ],
          [
           0.9,
           "rgb(33,102,172)"
          ],
          [
           1,
           "rgb(5,48,97)"
          ]
         ]
        },
        "legend": {
         "orientation": "h",
         "title": {
          "text": "label"
         },
         "tracegroupgap": 0
        },
        "margin": {
         "t": 60
        },
        "template": {
         "data": {
          "bar": [
           {
            "error_x": {
             "color": "#2a3f5f"
            },
            "error_y": {
             "color": "#2a3f5f"
            },
            "marker": {
             "line": {
              "color": "#E5ECF6",
              "width": 0.5
             },
             "pattern": {
              "fillmode": "overlay",
              "size": 10,
              "solidity": 0.2
             }
            },
            "type": "bar"
           }
          ],
          "barpolar": [
           {
            "marker": {
             "line": {
              "color": "#E5ECF6",
              "width": 0.5
             },
             "pattern": {
              "fillmode": "overlay",
              "size": 10,
              "solidity": 0.2
             }
            },
            "type": "barpolar"
           }
          ],
          "carpet": [
           {
            "aaxis": {
             "endlinecolor": "#2a3f5f",
             "gridcolor": "white",
             "linecolor": "white",
             "minorgridcolor": "white",
             "startlinecolor": "#2a3f5f"
            },
            "baxis": {
             "endlinecolor": "#2a3f5f",
             "gridcolor": "white",
             "linecolor": "white",
             "minorgridcolor": "white",
             "startlinecolor": "#2a3f5f"
            },
            "type": "carpet"
           }
          ],
          "choropleth": [
           {
            "colorbar": {
             "outlinewidth": 0,
             "ticks": ""
            },
            "type": "choropleth"
           }
          ],
          "contour": [
           {
            "colorbar": {
             "outlinewidth": 0,
             "ticks": ""
            },
            "colorscale": [
             [
              0,
              "#0d0887"
             ],
             [
              0.1111111111111111,
              "#46039f"
             ],
             [
              0.2222222222222222,
              "#7201a8"
             ],
             [
              0.3333333333333333,
              "#9c179e"
             ],
             [
              0.4444444444444444,
              "#bd3786"
             ],
             [
              0.5555555555555556,
              "#d8576b"
             ],
             [
              0.6666666666666666,
              "#ed7953"
             ],
             [
              0.7777777777777778,
              "#fb9f3a"
             ],
             [
              0.8888888888888888,
              "#fdca26"
             ],
             [
              1,
              "#f0f921"
             ]
            ],
            "type": "contour"
           }
          ],
          "contourcarpet": [
           {
            "colorbar": {
             "outlinewidth": 0,
             "ticks": ""
            },
            "type": "contourcarpet"
           }
          ],
          "heatmap": [
           {
            "colorbar": {
             "outlinewidth": 0,
             "ticks": ""
            },
            "colorscale": [
             [
              0,
              "#0d0887"
             ],
             [
              0.1111111111111111,
              "#46039f"
             ],
             [
              0.2222222222222222,
              "#7201a8"
             ],
             [
              0.3333333333333333,
              "#9c179e"
             ],
             [
              0.4444444444444444,
              "#bd3786"
             ],
             [
              0.5555555555555556,
              "#d8576b"
             ],
             [
              0.6666666666666666,
              "#ed7953"
             ],
             [
              0.7777777777777778,
              "#fb9f3a"
             ],
             [
              0.8888888888888888,
              "#fdca26"
             ],
             [
              1,
              "#f0f921"
             ]
            ],
            "type": "heatmap"
           }
          ],
          "heatmapgl": [
           {
            "colorbar": {
             "outlinewidth": 0,
             "ticks": ""
            },
            "colorscale": [
             [
              0,
              "#0d0887"
             ],
             [
              0.1111111111111111,
              "#46039f"
             ],
             [
              0.2222222222222222,
              "#7201a8"
             ],
             [
              0.3333333333333333,
              "#9c179e"
             ],
             [
              0.4444444444444444,
              "#bd3786"
             ],
             [
              0.5555555555555556,
              "#d8576b"
             ],
             [
              0.6666666666666666,
              "#ed7953"
             ],
             [
              0.7777777777777778,
              "#fb9f3a"
             ],
             [
              0.8888888888888888,
              "#fdca26"
             ],
             [
              1,
              "#f0f921"
             ]
            ],
            "type": "heatmapgl"
           }
          ],
          "histogram": [
           {
            "marker": {
             "pattern": {
              "fillmode": "overlay",
              "size": 10,
              "solidity": 0.2
             }
            },
            "type": "histogram"
           }
          ],
          "histogram2d": [
           {
            "colorbar": {
             "outlinewidth": 0,
             "ticks": ""
            },
            "colorscale": [
             [
              0,
              "#0d0887"
             ],
             [
              0.1111111111111111,
              "#46039f"
             ],
             [
              0.2222222222222222,
              "#7201a8"
             ],
             [
              0.3333333333333333,
              "#9c179e"
             ],
             [
              0.4444444444444444,
              "#bd3786"
             ],
             [
              0.5555555555555556,
              "#d8576b"
             ],
             [
              0.6666666666666666,
              "#ed7953"
             ],
             [
              0.7777777777777778,
              "#fb9f3a"
             ],
             [
              0.8888888888888888,
              "#fdca26"
             ],
             [
              1,
              "#f0f921"
             ]
            ],
            "type": "histogram2d"
           }
          ],
          "histogram2dcontour": [
           {
            "colorbar": {
             "outlinewidth": 0,
             "ticks": ""
            },
            "colorscale": [
             [
              0,
              "#0d0887"
             ],
             [
              0.1111111111111111,
              "#46039f"
             ],
             [
              0.2222222222222222,
              "#7201a8"
             ],
             [
              0.3333333333333333,
              "#9c179e"
             ],
             [
              0.4444444444444444,
              "#bd3786"
             ],
             [
              0.5555555555555556,
              "#d8576b"
             ],
             [
              0.6666666666666666,
              "#ed7953"
             ],
             [
              0.7777777777777778,
              "#fb9f3a"
             ],
             [
              0.8888888888888888,
              "#fdca26"
             ],
             [
              1,
              "#f0f921"
             ]
            ],
            "type": "histogram2dcontour"
           }
          ],
          "mesh3d": [
           {
            "colorbar": {
             "outlinewidth": 0,
             "ticks": ""
            },
            "type": "mesh3d"
           }
          ],
          "parcoords": [
           {
            "line": {
             "colorbar": {
              "outlinewidth": 0,
              "ticks": ""
             }
            },
            "type": "parcoords"
           }
          ],
          "pie": [
           {
            "automargin": true,
            "type": "pie"
           }
          ],
          "scatter": [
           {
            "fillpattern": {
             "fillmode": "overlay",
             "size": 10,
             "solidity": 0.2
            },
            "type": "scatter"
           }
          ],
          "scatter3d": [
           {
            "line": {
             "colorbar": {
              "outlinewidth": 0,
              "ticks": ""
             }
            },
            "marker": {
             "colorbar": {
              "outlinewidth": 0,
              "ticks": ""
             }
            },
            "type": "scatter3d"
           }
          ],
          "scattercarpet": [
           {
            "marker": {
             "colorbar": {
              "outlinewidth": 0,
              "ticks": ""
             }
            },
            "type": "scattercarpet"
           }
          ],
          "scattergeo": [
           {
            "marker": {
             "colorbar": {
              "outlinewidth": 0,
              "ticks": ""
             }
            },
            "type": "scattergeo"
           }
          ],
          "scattergl": [
           {
            "marker": {
             "colorbar": {
              "outlinewidth": 0,
              "ticks": ""
             }
            },
            "type": "scattergl"
           }
          ],
          "scattermapbox": [
           {
            "marker": {
             "colorbar": {
              "outlinewidth": 0,
              "ticks": ""
             }
            },
            "type": "scattermapbox"
           }
          ],
          "scatterpolar": [
           {
            "marker": {
             "colorbar": {
              "outlinewidth": 0,
              "ticks": ""
             }
            },
            "type": "scatterpolar"
           }
          ],
          "scatterpolargl": [
           {
            "marker": {
             "colorbar": {
              "outlinewidth": 0,
              "ticks": ""
             }
            },
            "type": "scatterpolargl"
           }
          ],
          "scatterternary": [
           {
            "marker": {
             "colorbar": {
              "outlinewidth": 0,
              "ticks": ""
             }
            },
            "type": "scatterternary"
           }
          ],
          "surface": [
           {
            "colorbar": {
             "outlinewidth": 0,
             "ticks": ""
            },
            "colorscale": [
             [
              0,
              "#0d0887"
             ],
             [
              0.1111111111111111,
              "#46039f"
             ],
             [
              0.2222222222222222,
              "#7201a8"
             ],
             [
              0.3333333333333333,
              "#9c179e"
             ],
             [
              0.4444444444444444,
              "#bd3786"
             ],
             [
              0.5555555555555556,
              "#d8576b"
             ],
             [
              0.6666666666666666,
              "#ed7953"
             ],
             [
              0.7777777777777778,
              "#fb9f3a"
             ],
             [
              0.8888888888888888,
              "#fdca26"
             ],
             [
              1,
              "#f0f921"
             ]
            ],
            "type": "surface"
           }
          ],
          "table": [
           {
            "cells": {
             "fill": {
              "color": "#EBF0F8"
             },
             "line": {
              "color": "white"
             }
            },
            "header": {
             "fill": {
              "color": "#C8D4E3"
             },
             "line": {
              "color": "white"
             }
            },
            "type": "table"
           }
          ]
         },
         "layout": {
          "annotationdefaults": {
           "arrowcolor": "#2a3f5f",
           "arrowhead": 0,
           "arrowwidth": 1
          },
          "autotypenumbers": "strict",
          "coloraxis": {
           "colorbar": {
            "outlinewidth": 0,
            "ticks": ""
           }
          },
          "colorscale": {
           "diverging": [
            [
             0,
             "#8e0152"
            ],
            [
             0.1,
             "#c51b7d"
            ],
            [
             0.2,
             "#de77ae"
            ],
            [
             0.3,
             "#f1b6da"
            ],
            [
             0.4,
             "#fde0ef"
            ],
            [
             0.5,
             "#f7f7f7"
            ],
            [
             0.6,
             "#e6f5d0"
            ],
            [
             0.7,
             "#b8e186"
            ],
            [
             0.8,
             "#7fbc41"
            ],
            [
             0.9,
             "#4d9221"
            ],
            [
             1,
             "#276419"
            ]
           ],
           "sequential": [
            [
             0,
             "#0d0887"
            ],
            [
             0.1111111111111111,
             "#46039f"
            ],
            [
             0.2222222222222222,
             "#7201a8"
            ],
            [
             0.3333333333333333,
             "#9c179e"
            ],
            [
             0.4444444444444444,
             "#bd3786"
            ],
            [
             0.5555555555555556,
             "#d8576b"
            ],
            [
             0.6666666666666666,
             "#ed7953"
            ],
            [
             0.7777777777777778,
             "#fb9f3a"
            ],
            [
             0.8888888888888888,
             "#fdca26"
            ],
            [
             1,
             "#f0f921"
            ]
           ],
           "sequentialminus": [
            [
             0,
             "#0d0887"
            ],
            [
             0.1111111111111111,
             "#46039f"
            ],
            [
             0.2222222222222222,
             "#7201a8"
            ],
            [
             0.3333333333333333,
             "#9c179e"
            ],
            [
             0.4444444444444444,
             "#bd3786"
            ],
            [
             0.5555555555555556,
             "#d8576b"
            ],
            [
             0.6666666666666666,
             "#ed7953"
            ],
            [
             0.7777777777777778,
             "#fb9f3a"
            ],
            [
             0.8888888888888888,
             "#fdca26"
            ],
            [
             1,
             "#f0f921"
            ]
           ]
          },
          "colorway": [
           "#636efa",
           "#EF553B",
           "#00cc96",
           "#ab63fa",
           "#FFA15A",
           "#19d3f3",
           "#FF6692",
           "#B6E880",
           "#FF97FF",
           "#FECB52"
          ],
          "font": {
           "color": "#2a3f5f"
          },
          "geo": {
           "bgcolor": "white",
           "lakecolor": "white",
           "landcolor": "#E5ECF6",
           "showlakes": true,
           "showland": true,
           "subunitcolor": "white"
          },
          "hoverlabel": {
           "align": "left"
          },
          "hovermode": "closest",
          "mapbox": {
           "style": "light"
          },
          "paper_bgcolor": "white",
          "plot_bgcolor": "#E5ECF6",
          "polar": {
           "angularaxis": {
            "gridcolor": "white",
            "linecolor": "white",
            "ticks": ""
           },
           "bgcolor": "#E5ECF6",
           "radialaxis": {
            "gridcolor": "white",
            "linecolor": "white",
            "ticks": ""
           }
          },
          "scene": {
           "xaxis": {
            "backgroundcolor": "#E5ECF6",
            "gridcolor": "white",
            "gridwidth": 2,
            "linecolor": "white",
            "showbackground": true,
            "ticks": "",
            "zerolinecolor": "white"
           },
           "yaxis": {
            "backgroundcolor": "#E5ECF6",
            "gridcolor": "white",
            "gridwidth": 2,
            "linecolor": "white",
            "showbackground": true,
            "ticks": "",
            "zerolinecolor": "white"
           },
           "zaxis": {
            "backgroundcolor": "#E5ECF6",
            "gridcolor": "white",
            "gridwidth": 2,
            "linecolor": "white",
            "showbackground": true,
            "ticks": "",
            "zerolinecolor": "white"
           }
          },
          "shapedefaults": {
           "line": {
            "color": "#2a3f5f"
           }
          },
          "ternary": {
           "aaxis": {
            "gridcolor": "white",
            "linecolor": "white",
            "ticks": ""
           },
           "baxis": {
            "gridcolor": "white",
            "linecolor": "white",
            "ticks": ""
           },
           "bgcolor": "#E5ECF6",
           "caxis": {
            "gridcolor": "white",
            "linecolor": "white",
            "ticks": ""
           }
          },
          "title": {
           "x": 0.05
          },
          "xaxis": {
           "automargin": true,
           "gridcolor": "white",
           "linecolor": "white",
           "ticks": "",
           "title": {
            "standoff": 15
           },
           "zerolinecolor": "white",
           "zerolinewidth": 2
          },
          "yaxis": {
           "automargin": true,
           "gridcolor": "white",
           "linecolor": "white",
           "ticks": "",
           "title": {
            "standoff": 15
           },
           "zerolinecolor": "white",
           "zerolinewidth": 2
          }
         }
        },
        "xaxis": {
         "anchor": "y",
         "domain": [
          0,
          1
         ],
         "title": {
          "text": "value"
         }
        },
        "yaxis": {
         "anchor": "x",
         "domain": [
          0,
          1
         ],
         "title": {
          "text": "EX 01"
         }
        }
       }
      }
     },
     "metadata": {},
     "output_type": "display_data"
    }
   ],
   "source": [
    "y_score = neigh.predict_proba(X_test)[:, 1]\n",
    "\n",
    "fig = px.scatter(\n",
    "    X_test, x=['HW Average', 'PJ01 ', 'EX 01', 'Quiz Average'], y='EX 01',\n",
    "    color=y_score, color_continuous_scale='RdBu',\n",
    "    symbol=Y_test, symbol_map={'0': 'square-dot', '1': 'circle-dot'},\n",
    "    labels={'symbol': 'label', 'color': 'score of probability estimates'}\n",
    ")\n",
    "fig.update_traces(marker_size=12, marker_line_width=1.5)\n",
    "fig.update_layout(legend_orientation='h')\n",
    "fig.show()\n"
   ]
  },
  {
   "cell_type": "code",
   "execution_count": 12,
   "metadata": {},
   "outputs": [
    {
     "name": "stdout",
     "output_type": "stream",
     "text": [
      "[0.         0.         0.         0.         0.         0.11039582\n",
      " 0.         0.         0.         0.         0.         0.06893498\n",
      " 0.24037969 0.15506056 0.         0.         0.         0.\n",
      " 0.         0.         0.         1.         0.26593531 0.\n",
      " 0.         0.         0.         0.         0.         0.12012185\n",
      " 0.10832512 0.         0.         0.16528723 1.         0.\n",
      " 0.         0.        ]\n"
     ]
    }
   ],
   "source": [
    "# 1 means it is uncretain and 0 is that the model is very sure about its predection \n",
    "print(y_score)\n"
   ]
  },
  {
   "cell_type": "code",
   "execution_count": null,
   "metadata": {},
   "outputs": [],
   "source": []
  }
 ],
 "metadata": {
  "kernelspec": {
   "display_name": "base",
   "language": "python",
   "name": "python3"
  },
  "language_info": {
   "codemirror_mode": {
    "name": "ipython",
    "version": 3
   },
   "file_extension": ".py",
   "mimetype": "text/x-python",
   "name": "python",
   "nbconvert_exporter": "python",
   "pygments_lexer": "ipython3",
   "version": "3.10.9"
  }
 },
 "nbformat": 4,
 "nbformat_minor": 2
}
